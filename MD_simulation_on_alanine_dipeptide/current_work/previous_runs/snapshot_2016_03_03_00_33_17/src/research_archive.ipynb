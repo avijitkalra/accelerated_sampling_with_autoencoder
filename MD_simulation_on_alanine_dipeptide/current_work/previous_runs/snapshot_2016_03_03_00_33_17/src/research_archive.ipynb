{
 "cells": [
  {
   "cell_type": "markdown",
   "metadata": {},
   "source": [
    "## This notebook archives some of previous experimental code that may be useful in the future."
   ]
  },
  {
   "cell_type": "code",
   "execution_count": 1,
   "metadata": {
    "collapsed": false
   },
   "outputs": [],
   "source": [
    "%matplotlib inline\n",
    "from ANN_simulation import *"
   ]
  },
  {
   "cell_type": "code",
   "execution_count": 6,
   "metadata": {
    "collapsed": false
   },
   "outputs": [
    {
     "name": "stdout",
     "output_type": "stream",
     "text": [
      "[(0, 0), (0, 1), (0, 2), (0, 3), (0, 4), (0, 5), (0, 6), (1, 0), (1, 1), (1, 2), (1, 3), (1, 4), (1, 5), (1, 6), (2, 0), (2, 1), (2, 2), (2, 3), (2, 4), (2, 5), (2, 6), (3, 0), (3, 1), (3, 2), (3, 3), (3, 4), (3, 5), (3, 6), (4, 0), (4, 1), (4, 2), (4, 3), (4, 4), (4, 5), (4, 6), (5, 0), (5, 1), (5, 2), (5, 3), (5, 4), (5, 5), (5, 6), (6, 0), (6, 1), (6, 2), (6, 3), (6, 4), (6, 5), (6, 6)]\n"
     ]
    },
    {
     "data": {
      "text/plain": [
       "<matplotlib.collections.PathCollection at 0x7f996f854d90>"
      ]
     },
     "execution_count": 6,
     "metadata": {},
     "output_type": "execute_result"
    },
    {
     "data": {
      "image/png": "[encoded data removed]",
      "text/plain": [
       "<matplotlib.figure.Figure at 0x7f996f93b6d0>"
      ]
     },
     "metadata": {},
     "output_type": "display_data"
    }
   ],
   "source": [
    "# test finding boundary function\n",
    "\n",
    "my_network = pickle.load(open('../resources/network_1.pkl','rb'))\n",
    "b=simulation_management(my_network)\n",
    "\n",
    "x = list(np.random.normal(3, 1, 100))\n",
    "y = list(np.random.normal(1, 1, 100))\n",
    "temp_data = zip(*[x,y])\n",
    "\n",
    "boundary = b.get_boundary_points_2(list_of_points=temp_data)\n",
    "\n",
    "[x1, y1] = zip(*boundary)\n",
    "\n",
    "plt.scatter(x,y)\n",
    "plt.scatter(x1,y1, c='red')"
   ]
  },
  {
   "cell_type": "code",
   "execution_count": 3,
   "metadata": {
    "collapsed": false
   },
   "outputs": [
    {
     "data": {
      "text/plain": [
       "<matplotlib.text.Text at 0x7fe8d02a4a50>"
      ]
     },
     "execution_count": 3,
     "metadata": {},
     "output_type": "execute_result"
    },
    {
     "data": {
      "image/png": "[encoded data removed]",
      "text/plain": [
       "<matplotlib.figure.Figure at 0x7fe8d03736d0>"
      ]
     },
     "metadata": {},
     "output_type": "display_data"
    }
   ],
   "source": [
    "a=[[0.269641611258,0.486201139459,0.469347822853,0.514719568248,0.531066183431,0.536134936536],\n",
    "   [0.27012669883,0.49126458993,0.514859185285,0.51402610015,0.526693395889,0.529315795038]]\n",
    "\n",
    "fig, ax = plt.subplots()\n",
    "ax.scatter(range(1,7), a[0],c='yellow')\n",
    "ax.scatter(range(1,7), a[1], c='red')\n",
    "\n",
    "ax.set_title('FVE vs. number of PCs, \\n\\\n",
    "             with number of hidden layer nodes = 12 (yellow),15 (red),\\n each point is the average of 5 trainings')\n",
    "ax.set_xlabel('number of PCs')\n",
    "ax.set_ylabel('FVE')"
   ]
  },
  {
   "cell_type": "code",
   "execution_count": null,
   "metadata": {
    "collapsed": true
   },
   "outputs": [],
   "source": [
    "# train on previous data with circular network\n",
    "\n",
    "def train_on_previous_data_using_circular(index):\n",
    "    a = neural_network_for_simulation(index=1, \n",
    "                                      training_data_interval = 5,\n",
    "                                      data_set_for_training= cossin_data,\n",
    "                                      node_num = [8, 12, 4, 12, 8],   # circular\n",
    "                                      hidden_layers_types=[TanhLayer, CircularLayer, TanhLayer],\n",
    "                                      max_num_of_training=30\n",
    "                                     )\n",
    "    a.train()\n",
    "    a.save_into_file('previous_data_with_circular_node_index_%d.pkl' % index)\n",
    "\n",
    "    a = pickle.load(open('previous_data_with_circular_node_index_%d.pkl' % index,'rb'))\n",
    "\n",
    "    mid_res = a.get_mid_result()\n",
    "\n",
    "    mid_result_1 = [item[1] for item in mid_res]\n",
    "    mid_result_3 = [item[3] for item in mid_res]\n",
    "\n",
    "    ml_angles_1 = [acos(item[0]) * np.sign(item[1]) for item in mid_result_1]\n",
    "    ml_angles_2 = [acos(item[2]) * np.sign(item[3]) for item in mid_result_1]\n",
    "\n",
    "    phi = [item[1] for item in sutils.get_many_dihedrals_from_cossin(a._data_set)]\n",
    "    psi = [item[2] for item in sutils.get_many_dihedrals_from_cossin(a._data_set)]\n",
    "\n",
    "    fig = plt.figure()\n",
    "    fig.set_size_inches(10, 20)\n",
    "    ax1 = fig.add_subplot(121, aspect='equal')\n",
    "    ax1.scatter(ml_angles_1, ml_angles_2, c=phi)\n",
    "\n",
    "    ax2 = fig.add_subplot(122, aspect='equal')\n",
    "    ax2.scatter(ml_angles_1, ml_angles_2, c=psi)\n",
    "    \n",
    "    fig.savefig('previous_data_with_circular_%d.png' % index)\n",
    "    \n",
    "train_on_previous_data_using_circular(1)"
   ]
  },
  {
   "cell_type": "code",
   "execution_count": null,
   "metadata": {
    "collapsed": false
   },
   "outputs": [],
   "source": [
    "# plotting in PC space when dim of PC = 3, using 3D scatter plot\n",
    "\n",
    "from mpl_toolkits.mplot3d import Axes3D\n",
    "\n",
    "a=pickle.load(open('../resources/network_numPC_3_numHiddenLayerNode_15_index_3.pkl','rb'))\n",
    "# print(a._node_num)\n",
    "# a.get_fraction_of_variance_explained()\n",
    "temp_mid_result = a.get_mid_result()\n",
    "PC_3D = [item[1] for item in temp_mid_result]\n",
    "x = [item[0] for item in PC_3D]\n",
    "y = [item[1] for item in PC_3D]\n",
    "z = [item[2] for item in PC_3D]\n",
    "\n",
    "dihedrals = a.get_many_dihedrals_from_coordinates_in_file(a._list_of_coor_data_files)\n",
    "phi = [item[1] for item in dihedrals]\n",
    "psi = [item[2] for item in dihedrals]\n",
    "phi_plus_psi = [item[1]+item[2] for item in dihedrals]\n",
    "phi_minus_psi = [item[1]-item[2] for item in dihedrals]\n",
    "\n",
    "assert(len(phi) == len(PC_3D))\n",
    "\n",
    "fig = plt.figure()\n",
    "ax = Axes3D(fig)\n",
    "ax.scatter3D(x,y,z, c=psi)\n",
    "sciio.savemat('temp.mat', \n",
    "              {'x':x, 'y':y, 'z':z,\n",
    "               'phi_plus_psi':phi_plus_psi,\n",
    "               'phi_minus_psi': phi_minus_psi})\n",
    "plt.show()"
   ]
  },
  {
   "cell_type": "code",
   "execution_count": null,
   "metadata": {
    "collapsed": true
   },
   "outputs": [],
   "source": [
    "# test new finding boundary function\n",
    "\n",
    "%matplotlib inline\n",
    "\n",
    "mean = [0, 0]\n",
    "cov = [[0.1, 0], [0, 0.1]]  # diagonal covariance\n",
    "\n",
    "get_points = lambda mean: np.random.multivariate_normal(mean, cov, 5000)\n",
    "\n",
    "\n",
    "import matplotlib.pyplot as plt\n",
    "import numpy as np\n",
    "\n",
    "points = reduce(lambda x, y: np.concatenate((x, y)), map(get_points, [[0,0], [-2,-2]]))\n",
    "\n",
    "print(points)\n",
    "\n",
    "\n",
    "x, y = points.T\n",
    "\n",
    "hist_matrix, _, _ = np.histogram2d(x, y)\n",
    "\n",
    "temp = hist_matrix - (np.roll(hist_matrix, 1, axis=0) + np.roll(hist_matrix, -1, axis=0) + np.roll(hist_matrix, 1, axis=1) + np.roll(hist_matrix, -1, axis=1))/4\n",
    "\n",
    "temp[np.where(temp > 0)] = 0\n",
    "\n",
    "# im = plt.imshow(temp)\n",
    "# plt.colorbar()\n",
    "# plt.show()\n",
    "\n",
    "from ANN_simulation import *\n",
    "\n",
    "boundary_points = sutils.get_boundary_points_3_for_circular_network(points, preprocessing=True)\n",
    "\n",
    "x, y = zip(*points); x1, y1 = zip(*boundary_points)\n",
    "\n",
    "plt.scatter(x, y, c='b')\n",
    "plt.scatter(x1, y1, c='r')"
   ]
  }
 ],
 "metadata": {
  "kernelspec": {
   "display_name": "Python 2",
   "language": "python",
   "name": "python2"
  },
  "language_info": {
   "codemirror_mode": {
    "name": "ipython",
    "version": 2
   },
   "file_extension": ".py",
   "mimetype": "text/x-python",
   "name": "python",
   "nbconvert_exporter": "python",
   "pygments_lexer": "ipython2",
   "version": "2.7.11"
  }
 },
 "nbformat": 4,
 "nbformat_minor": 0
}
